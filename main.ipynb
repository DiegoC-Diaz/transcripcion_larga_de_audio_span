{
 "cells": [
  {
   "cell_type": "markdown",
   "id": "8938520f",
   "metadata": {},
   "source": [
    "# Convierte el archivo en formato mp4, mp3, acc a .wac"
   ]
  },
  {
   "cell_type": "code",
   "execution_count": 3,
   "id": "0ac0f86a",
   "metadata": {},
   "outputs": [
    {
     "name": "stderr",
     "output_type": "stream",
     "text": [
      "ffmpeg version 7.1.1 Copyright (c) 2000-2025 the FFmpeg developers\n",
      "  built with Apple clang version 16.0.0 (clang-1600.0.26.6)\n",
      "  configuration: --prefix=/opt/homebrew/Cellar/ffmpeg/7.1.1_3 --enable-shared --enable-pthreads --enable-version3 --cc=clang --host-cflags= --host-ldflags='-Wl,-ld_classic' --enable-ffplay --enable-gnutls --enable-gpl --enable-libaom --enable-libaribb24 --enable-libbluray --enable-libdav1d --enable-libharfbuzz --enable-libjxl --enable-libmp3lame --enable-libopus --enable-librav1e --enable-librist --enable-librubberband --enable-libsnappy --enable-libsrt --enable-libssh --enable-libsvtav1 --enable-libtesseract --enable-libtheora --enable-libvidstab --enable-libvmaf --enable-libvorbis --enable-libvpx --enable-libwebp --enable-libx264 --enable-libx265 --enable-libxml2 --enable-libxvid --enable-lzma --enable-libfontconfig --enable-libfreetype --enable-frei0r --enable-libass --enable-libopencore-amrnb --enable-libopencore-amrwb --enable-libopenjpeg --enable-libspeex --enable-libsoxr --enable-libzmq --enable-libzimg --disable-libjack --disable-indev=jack --enable-videotoolbox --enable-audiotoolbox --enable-neon\n",
      "  libavutil      59. 39.100 / 59. 39.100\n",
      "  libavcodec     61. 19.101 / 61. 19.101\n",
      "  libavformat    61.  7.100 / 61.  7.100\n",
      "  libavdevice    61.  3.100 / 61.  3.100\n",
      "  libavfilter    10.  4.100 / 10.  4.100\n",
      "  libswscale      8.  3.100 /  8.  3.100\n",
      "  libswresample   5.  3.100 /  5.  3.100\n",
      "  libpostproc    58.  3.100 / 58.  3.100\n",
      "Input #0, ogg, from 'grabacion.ogg':\n",
      "  Duration: 00:00:46.10, start: 0.002167, bitrate: 18 kb/s\n",
      "  Stream #0:0: Audio: opus, 48000 Hz, mono, fltp\n",
      "Stream mapping:\n",
      "  Stream #0:0 -> #0:0 (opus (native) -> pcm_s16le (native))\n",
      "Press [q] to stop, [?] for help\n",
      "Output #0, wav, to 'grabacion.wav':\n",
      "  Metadata:\n",
      "    ISFT            : Lavf61.7.100\n",
      "  Stream #0:0: Audio: pcm_s16le ([1][0][0][0] / 0x0001), 48000 Hz, mono, s16, 768 kb/s\n",
      "      Metadata:\n",
      "        encoder         : Lavc61.19.101 pcm_s16le\n",
      "[out#0/wav @ 0x146731e50] video:0KiB audio:4322KiB subtitle:0KiB other streams:0KiB global headers:0KiB muxing overhead: 0.001763%\n",
      "size=    4322KiB time=00:00:46.09 bitrate= 768.0kbits/s speed= 964x    \n"
     ]
    },
    {
     "data": {
      "text/plain": [
       "(None, None)"
      ]
     },
     "execution_count": 3,
     "metadata": {},
     "output_type": "execute_result"
    }
   ],
   "source": [
    "import ffmpeg\n",
    "\n",
    "ffmpeg.input(\"grabacion.ogg\").output(\"grabacion.wav\").run()\n"
   ]
  },
  {
   "cell_type": "markdown",
   "id": "56e142c4",
   "metadata": {},
   "source": [
    "# Importa el modelo\n",
    "El nombre del modelo es `jonatasgrosman/wav2vec2-large-xlsr-53-spanish`\n",
    "\n",
    "Se importa de  HuggingFace transformers.\n"
   ]
  },
  {
   "cell_type": "code",
   "execution_count": 4,
   "id": "38f16023",
   "metadata": {},
   "outputs": [
    {
     "data": {
      "application/vnd.jupyter.widget-view+json": {
       "model_id": "4d45f9781dfc4ab38eaf4951b4539a3a",
       "version_major": 2,
       "version_minor": 0
      },
      "text/plain": [
       "Fetching 4 files:   0%|          | 0/4 [00:00<?, ?it/s]"
      ]
     },
     "metadata": {},
     "output_type": "display_data"
    }
   ],
   "source": [
    "from transformers import pipeline\n",
    "import numpy as np\n",
    "import os\n",
    "\n",
    "\n",
    "asr = pipeline(\"automatic-speech-recognition\", model=\"jonatasgrosman/wav2vec2-large-xlsr-53-spanish\", device=-1)  # device=-1 means CPU\n",
    "\n",
    "\n"
   ]
  },
  {
   "cell_type": "markdown",
   "id": "4826f1f7",
   "metadata": {},
   "source": [
    "# Pipeline de wav2vec\n",
    "El metodo para procesar el audio es partirlo en pedazos de 30s para que el modelo pueda\n",
    "realizar la conversion completa.\n"
   ]
  },
  {
   "cell_type": "code",
   "execution_count": null,
   "id": "d2221d57",
   "metadata": {},
   "outputs": [
    {
     "name": "stdout",
     "output_type": "stream",
     "text": [
      "Processing chunk 1/2...\n",
      "Processing chunk 2/2...\n",
      "Transcription saved to 'transcription.txt'\n"
     ]
    }
   ],
   "source": [
    "import librosa\n",
    "import numpy as np\n",
    "from transformers import pipeline\n",
    "import soundfile as sf\n",
    "\n",
    "# Cargar archvio de audio\n",
    "audio_path = \"grabacion.wav\"\n",
    "waveform, sr = librosa.load(audio_path, sr=16000)\n",
    "\n",
    "# El audio se debe partir en chunks de 30s por ejemplo\n",
    "chunk_duration = 30  # seconds\n",
    "chunk_size = sr * chunk_duration\n",
    "chunks = [waveform[i:i + chunk_size] for i in range(0, len(waveform), chunk_size)]\n",
    "\n",
    "\n",
    "# Transcribe cada chunk\n",
    "full_transcription = \"\"\n",
    "for i, chunk in enumerate(chunks):\n",
    "    print(f\"Processing chunk {i+1}/{len(chunks)}...\")\n",
    "    #el sampling rate por defecto es u\n",
    "    #Los modelos usan un sample rate medido e Khz por ejemplo 16kHz\n",
    "    input_audio = {\"array\": chunk, \"sampling_rate\": 16000}\n",
    "    #el modelo recibe como input este diccionario\n",
    "    result = asr(input_audio)\n",
    "    full_transcription += result[\"text\"] + \"\\n\"\n",
    "\n",
    "# Guarda el archivo:\n",
    "with open(\"Dtranscription.txt\", \"w\", encoding=\"utf-8\") as f:\n",
    "    f.write(full_transcription)\n",
    "\n",
    "print(\"Transcription saved to 'transcription.txt'\")\n"
   ]
  }
 ],
 "metadata": {
  "kernelspec": {
   "display_name": "dev",
   "language": "python",
   "name": "python3"
  },
  "language_info": {
   "codemirror_mode": {
    "name": "ipython",
    "version": 3
   },
   "file_extension": ".py",
   "mimetype": "text/x-python",
   "name": "python",
   "nbconvert_exporter": "python",
   "pygments_lexer": "ipython3",
   "version": "3.11.11"
  }
 },
 "nbformat": 4,
 "nbformat_minor": 5
}
